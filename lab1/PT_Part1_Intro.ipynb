{
  "cells": [
    {
      "cell_type": "markdown",
      "metadata": {
        "id": "view-in-github",
        "colab_type": "text"
      },
      "source": [
        "<a href=\"https://colab.research.google.com/github/Fullmetal-physicist/introtodeeplearning/blob/master/lab1/PT_Part1_Intro.ipynb\" target=\"_parent\"><img src=\"https://colab.research.google.com/assets/colab-badge.svg\" alt=\"Open In Colab\"/></a>"
      ]
    },
    {
      "cell_type": "markdown",
      "metadata": {
        "id": "WBk0ZDWY-ff8"
      },
      "source": [
        "<table align=\"center\">\n",
        "  <td align=\"center\"><a target=\"_blank\" href=\"http://introtodeeplearning.com\">\n",
        "        <img src=\"https://i.ibb.co/Jr88sn2/mit.png\" style=\"padding-bottom:5px;\" />\n",
        "      Visit MIT Deep Learning</a></td>\n",
        "  <td align=\"center\"><a target=\"_blank\" href=\"https://colab.research.google.com/github/MITDeepLearning/introtodeeplearning/blob/master/lab1/PT_Part1_Intro.ipynb\">\n",
        "        <img src=\"https://i.ibb.co/2P3SLwK/colab.png\"  style=\"padding-bottom:5px;\" />Run in Google Colab</a></td>\n",
        "  <td align=\"center\"><a target=\"_blank\" href=\"https://github.com/MITDeepLearning/introtodeeplearning/blob/master/lab1/PT_Part1_Intro.ipynb\">\n",
        "        <img src=\"https://i.ibb.co/xfJbPmL/github.png\"  height=\"70px\" style=\"padding-bottom:5px;\"  />View Source on GitHub</a></td>\n",
        "</table>\n",
        "\n",
        "# Copyright Information\n"
      ]
    },
    {
      "cell_type": "code",
      "execution_count": null,
      "metadata": {
        "id": "3eI6DUic-6jo"
      },
      "outputs": [],
      "source": [
        "# Copyright 2025 MIT Introduction to Deep Learning. All Rights Reserved.\n",
        "#\n",
        "# Licensed under the MIT License. You may not use this file except in compliance\n",
        "# with the License. Use and/or modification of this code outside of MIT Introduction\n",
        "# to Deep Learning must reference:\n",
        "#\n",
        "# © MIT Introduction to Deep Learning\n",
        "# http://introtodeeplearning.com\n",
        "#"
      ]
    },
    {
      "cell_type": "markdown",
      "metadata": {
        "id": "57knM8jrYZ2t"
      },
      "source": [
        "# Lab 1: Intro to PyTorch and Music Generation with RNNs\n",
        "\n",
        "In this lab, you'll get exposure to using PyTorch and learn how it can be used for deep learning. Go through the code and run each cell. Along the way, you'll encounter several ***TODO*** blocks -- follow the instructions to fill them out before running those cells and continuing.\n",
        "\n",
        "\n",
        "# Part 1: Intro to PyTorch\n",
        "\n",
        "## 0.1 Install PyTorch\n",
        "\n",
        "[PyTorch](https://pytorch.org/) is a popular deep learning library known for its flexibility and ease of use. Here we'll learn how computations are represented and how to define a simple neural network in PyTorch. For all the labs in Introduction to Deep Learning 2025, there will be a PyTorch version available.\n",
        "\n",
        "Let's install PyTorch and a couple of dependencies."
      ]
    },
    {
      "cell_type": "code",
      "execution_count": 1,
      "metadata": {
        "id": "LkaimNJfYZ2w",
        "outputId": "29cc4f39-81dc-42d2-8a81-0586d37e3bae",
        "colab": {
          "base_uri": "https://localhost:8080/"
        }
      },
      "outputs": [
        {
          "output_type": "stream",
          "name": "stdout",
          "text": [
            "\u001b[2K     \u001b[90m━━━━━━━━━━━━━━━━━━━━━━━━━━━━━━━━━━━━━━━━\u001b[0m \u001b[32m2.1/2.1 MB\u001b[0m \u001b[31m18.2 MB/s\u001b[0m eta \u001b[36m0:00:00\u001b[0m\n",
            "\u001b[?25h  Preparing metadata (setup.py) ... \u001b[?25l\u001b[?25hdone\n",
            "  Building wheel for mitdeeplearning (setup.py) ... \u001b[?25l\u001b[?25hdone\n"
          ]
        }
      ],
      "source": [
        "import torch\n",
        "import torch.nn as nn\n",
        "\n",
        "# Download and import the MIT Introduction to Deep Learning package\n",
        "!pip install mitdeeplearning --quiet\n",
        "import mitdeeplearning as mdl\n",
        "\n",
        "import numpy as np\n",
        "import matplotlib.pyplot as plt"
      ]
    },
    {
      "cell_type": "markdown",
      "metadata": {
        "id": "2QNMcdP4m3Vs"
      },
      "source": [
        "## 1.1 What is PyTorch?\n",
        "\n",
        "PyTorch is a machine learning library, like TensorFlow. At its core, PyTorch provides an interface for creating and manipulating [tensors](https://pytorch.org/docs/stable/tensors.html), which are data structures that you can think of as multi-dimensional arrays. Tensors are represented as n-dimensional arrays of base datatypes such as a string or integer -- they provide a way to generalize vectors and matrices to higher dimensions. PyTorch provides the ability to perform computation on these tensors, define neural networks, and train them efficiently.\n",
        "\n",
        "The [```shape```](https://pytorch.org/docs/stable/generated/torch.Tensor.shape.html#torch.Tensor.shape) of a PyTorch tensor defines its number of dimensions and the size of each dimension. The `ndim` or [```dim```](https://pytorch.org/docs/stable/generated/torch.Tensor.dim.html#torch.Tensor.dim) of a PyTorch tensor provides the number of dimensions (n-dimensions) -- this is equivalent to the tensor's rank (as is used in TensorFlow), and you can also think of this as the tensor's order or degree.\n",
        "\n",
        "Let’s start by creating some tensors and inspecting their properties:\n"
      ]
    },
    {
      "cell_type": "code",
      "execution_count": 5,
      "metadata": {
        "id": "tFxztZQInlAB",
        "outputId": "5d6615c6-b16d-4713-da02-a53cbeae6c3a",
        "colab": {
          "base_uri": "https://localhost:8080/"
        }
      },
      "outputs": [
        {
          "output_type": "stream",
          "name": "stdout",
          "text": [
            "`integer` is a 0-d Tensor: 1234\n",
            "`decimal` is a 0-d Tensor: 3.1415927410125732\n"
          ]
        }
      ],
      "source": [
        "integer = torch.tensor(1234)\n",
        "decimal = torch.tensor(3.14159265359)\n",
        "\n",
        "print(f\"`integer` is a {integer.ndim}-d Tensor: {integer}\")\n",
        "print(f\"`decimal` is a {decimal.ndim}-d Tensor: {decimal}\")\n"
      ]
    },
    {
      "cell_type": "markdown",
      "metadata": {
        "id": "-dljcPUcoJZ6"
      },
      "source": [
        "Vectors and lists can be used to create 1-d tensors:"
      ]
    },
    {
      "cell_type": "code",
      "execution_count": 9,
      "metadata": {
        "id": "oaHXABe8oPcO",
        "outputId": "b9eb880e-5a46-45ea-8d1a-50285b96d565",
        "colab": {
          "base_uri": "https://localhost:8080/"
        }
      },
      "outputs": [
        {
          "output_type": "stream",
          "name": "stdout",
          "text": [
            "`fibonacci` is a 1-d Tensor with shape: torch.Size([6])\n",
            "`count_to_100` is a 1-d Tensor with shape: torch.Size([100])\n"
          ]
        }
      ],
      "source": [
        "fibonacci = torch.tensor([1, 1, 2, 3, 5, 8])\n",
        "count_to_100 = torch.tensor(range(100))\n",
        "print(f\"`fibonacci` is a {fibonacci.ndim}-d Tensor with shape: {fibonacci.shape}\")\n",
        "print(f\"`count_to_100` is a {count_to_100.ndim}-d Tensor with shape: {count_to_100.shape}\")\n"
      ]
    },
    {
      "cell_type": "markdown",
      "metadata": {
        "id": "gvffwkvtodLP"
      },
      "source": [
        "Next, let’s create 2-d (i.e., matrices) and higher-rank tensors. In image processing and computer vision, we will use 4-d Tensors with dimensions corresponding to batch size, number of color channels, image height, and image width."
      ]
    },
    {
      "cell_type": "code",
      "execution_count": 18,
      "metadata": {
        "id": "tFeBBe1IouS3",
        "outputId": "077edfc1-006b-43f8-ed80-3cb586e93a90",
        "colab": {
          "base_uri": "https://localhost:8080/"
        }
      },
      "outputs": [
        {
          "output_type": "stream",
          "name": "stdout",
          "text": [
            "images is a 4-d Tensor with shape: torch.Size([10, 3, 256, 256])\n"
          ]
        },
        {
          "output_type": "stream",
          "name": "stderr",
          "text": [
            "/usr/local/lib/python3.10/dist-packages/ipykernel/ipkernel.py:283: DeprecationWarning: `should_run_async` will not call `transform_cell` automatically in the future. Please pass the result to `transformed_cell` argument and any exception that happen during thetransform in `preprocessing_exc_tuple` in IPython 7.17 and above.\n",
            "  and should_run_async(code)\n"
          ]
        }
      ],
      "source": [
        "### Defining higher-order Tensors ###\n",
        "\n",
        "'''TODO: Define a 2-d Tensor'''\n",
        "matrix = torch.tensor([[1,2],[2,4]])\n",
        "assert isinstance(matrix, torch.Tensor), \"matrix must be a torch Tensor object\"\n",
        "assert matrix.ndim == 2\n",
        "\n",
        "'''TODO: Define a 4-d Tensor.'''\n",
        "# Use torch.zeros to initialize a 4-d Tensor of zeros with size 10 x 3 x 256 x 256.\n",
        "#   You can think of this as 10 images where each image is RGB 256 x 256.\n",
        "images = torch.zeros(10,3,256, 256)\n",
        "#images = torch.tensor(np.zeros((10,3,256,256)))\n",
        "\n",
        "\n",
        "assert isinstance(images, torch.Tensor), \"images must be a torch Tensor object\"\n",
        "assert images.ndim == 4, \"images must have 4 dimensions\"\n",
        "assert images.shape == (10, 3, 256, 256), \"images is incorrect shape\"\n",
        "print(f\"images is a {images.ndim}-d Tensor with shape: {images.shape}\")"
      ]
    },
    {
      "cell_type": "markdown",
      "metadata": {
        "id": "wkaCDOGapMyl"
      },
      "source": [
        "As you have seen, the `shape` of a tensor provides the number of elements in each tensor dimension. The `shape` is quite useful, and we'll use it often. You can also use slicing to access subtensors within a higher-rank tensor:"
      ]
    },
    {
      "cell_type": "code",
      "execution_count": 19,
      "metadata": {
        "id": "FhaufyObuLEG",
        "outputId": "e664d1f2-3a00-41ed-aa68-33d7d9723593",
        "colab": {
          "base_uri": "https://localhost:8080/"
        }
      },
      "outputs": [
        {
          "output_type": "stream",
          "name": "stdout",
          "text": [
            "`row_vector`: tensor([2, 4])\n",
            "`column_vector`: tensor([2, 4])\n",
            "`scalar`: 2\n"
          ]
        }
      ],
      "source": [
        "row_vector = matrix[1]\n",
        "column_vector = matrix[:, 1]\n",
        "scalar = matrix[0, 1]\n",
        "\n",
        "print(f\"`row_vector`: {row_vector}\")\n",
        "print(f\"`column_vector`: {column_vector}\")\n",
        "print(f\"`scalar`: {scalar}\")"
      ]
    },
    {
      "cell_type": "markdown",
      "metadata": {
        "id": "iD3VO-LZYZ2z"
      },
      "source": [
        "## 1.2 Computations on Tensors\n",
        "\n",
        "A convenient way to think about and visualize computations in a machine learning framework like PyTorch is in terms of graphs. We can define this graph in terms of tensors, which hold data, and the mathematical operations that act on these tensors in some order. Let's look at a simple example, and define this computation using PyTorch:\n",
        "\n",
        "![alt text](https://raw.githubusercontent.com/MITDeepLearning/introtodeeplearning/2025/lab1/img/add-graph.png)"
      ]
    },
    {
      "cell_type": "code",
      "execution_count": 23,
      "metadata": {
        "id": "X_YJrZsxYZ2z",
        "outputId": "6309873a-8337-4616-d731-6c693935cc1e",
        "colab": {
          "base_uri": "https://localhost:8080/"
        }
      },
      "outputs": [
        {
          "output_type": "stream",
          "name": "stdout",
          "text": [
            "c1: 76, type: torch.LongTensor\n",
            "c2: 76, type: torch.LongTensor\n"
          ]
        }
      ],
      "source": [
        "# Create the nodes in the graph and initialize values\n",
        "a = torch.tensor(15)\n",
        "b = torch.tensor(61)\n",
        "\n",
        "# Add them!\n",
        "c1 = torch.add(a, b)\n",
        "c2 = a + b  # PyTorch overrides the \"+\" operation so that it is able to act on Tensors #that it acts like a normal operation\n",
        "\n",
        "\n",
        "print(f\"c1: {c1}, type: {c1.type()}\")\n",
        "print(f\"c2: {c2}, type: {c2.type()}\")\n"
      ]
    },
    {
      "cell_type": "markdown",
      "metadata": {
        "id": "Mbfv_QOiYZ23"
      },
      "source": [
        "Notice how we've created a computation graph consisting of PyTorch operations, and how the output is a tensor with value 76 -- we've just created a computation graph consisting of operations, and it's executed them and given us back the result.\n",
        "\n",
        "Now let's consider a slightly more complicated example:\n",
        "\n",
        "![alt text](https://raw.githubusercontent.com/MITDeepLearning/introtodeeplearning/2025/lab1/img/computation-graph.png)\n",
        "\n",
        "Here, we take two inputs, `a, b`, and compute an output `e`. Each node in the graph represents an operation that takes some input, does some computation, and passes its output to another node.\n",
        "\n",
        "Let's define a simple function in PyTorch to construct this computation function:"
      ]
    },
    {
      "cell_type": "code",
      "execution_count": 24,
      "metadata": {
        "id": "PJnfzpWyYZ23",
        "scrolled": true
      },
      "outputs": [],
      "source": [
        "### Defining Tensor computations ###\n",
        "\n",
        "# Construct a simple computation function\n",
        "def func(a, b):\n",
        "    '''TODO: Define the operation for c, d, e.'''\n",
        "    c = torch.add(a,b)# TODO\n",
        "    d = torch.add(b, -1)# TODO\n",
        "    e = torch.multiply(c, d)# TODO\n",
        "    return e\n"
      ]
    },
    {
      "cell_type": "markdown",
      "metadata": {
        "id": "AwrRfDMS2-oy"
      },
      "source": [
        "Now, we can call this function to execute the computation graph given some inputs `a,b`:"
      ]
    },
    {
      "cell_type": "code",
      "execution_count": 25,
      "metadata": {
        "id": "pnwsf8w2uF7p",
        "outputId": "97e0bc98-b4a9-4dea-e833-0bb08818e5bd",
        "colab": {
          "base_uri": "https://localhost:8080/"
        }
      },
      "outputs": [
        {
          "output_type": "stream",
          "name": "stdout",
          "text": [
            "e_out: 6.0\n"
          ]
        }
      ],
      "source": [
        "# Consider example values for a,b\n",
        "a, b = 1.5, 2.5\n",
        "# Execute the computation\n",
        "e_out = func(a, b)\n",
        "print(f\"e_out: {e_out}\")"
      ]
    },
    {
      "cell_type": "markdown",
      "metadata": {
        "id": "6HqgUIUhYZ29"
      },
      "source": [
        "Notice how our output is a tensor with value defined by the output of the computation, and that the output has no shape as it is a single scalar value."
      ]
    },
    {
      "cell_type": "markdown",
      "metadata": {
        "id": "1h4o9Bb0YZ29"
      },
      "source": [
        "## 1.3 Neural networks in PyTorch\n",
        "We can also define neural networks in PyTorch. PyTorch uses [``torch.nn.Module``](https://pytorch.org/docs/stable/generated/torch.nn.Module.html), which serves as a base class for all neural network modules in PyTorch and thus provides a framework for building and training neural networks.\n",
        "\n",
        "Let's consider the example of a simple perceptron defined by just one dense (aka fully-connected or linear) layer: $ y = \\sigma(Wx + b) $, where $W$ represents a matrix of weights, $b$ is a bias, $x$ is the input, $\\sigma$ is the sigmoid activation function, and $y$ is the output.\n",
        "\n",
        "![alt text](https://raw.githubusercontent.com/MITDeepLearning/introtodeeplearning/2025/lab1/img/computation-graph-2.png)\n",
        "\n",
        "We will use `torch.nn.Module` to define layers -- the building blocks of neural networks. Layers implement common neural networks operations. In PyTorch, when we implement a layer, we subclass `nn.Module` and define the parameters of the layer as attributes of our new class. We also define and override a function [``forward``](https://pytorch.org/docs/stable/generated/torch.nn.Module.html#torch.nn.Module.forward), which will define the forward pass computation that is performed at every step. All classes subclassing `nn.Module` should override the `forward` function.\n",
        "\n",
        "Let's write a dense layer class to implement a perceptron defined above."
      ]
    },
    {
      "cell_type": "code",
      "execution_count": 32,
      "metadata": {
        "id": "HutbJk-1kHPh"
      },
      "outputs": [],
      "source": [
        "### Defining a dense layer ###\n",
        "\n",
        "# num_inputs: number of input nodes\n",
        "# num_outputs: number of output nodes\n",
        "# x: input to the layer\n",
        "\n",
        "\n",
        "class OurDenseLayer(torch.nn.Module): #defining the class of this nn model #inherits the nn module as well as its parent class\n",
        "    def __init__(self, num_inputs, num_outputs):\n",
        "        super(OurDenseLayer, self).__init__() #what are you inheriting from?\n",
        "        # Define and initialize parameters: a weight matrix W and bias b\n",
        "        # Note that the parameter initialize is random!\n",
        "        self.W = torch.nn.Parameter(torch.randn(num_inputs, num_outputs))\n",
        "        self.bias = torch.nn.Parameter(torch.randn(num_outputs))\n",
        "\n",
        "    def forward(self, x):\n",
        "        '''TODO: define the operation for z (hint: use torch.matmul).'''\n",
        "        z = torch.matmul(x, self.W) + self.bias # TODO\n",
        "        '''TODO: define the operation for out (hint: use torch.sigmoid).'''\n",
        "        y = torch.sigmoid(z) # TODO\n",
        "        return y\n"
      ]
    },
    {
      "cell_type": "markdown",
      "metadata": {
        "id": "GqeEbn959hV_"
      },
      "source": [
        "Now, let's test the output of our layer."
      ]
    },
    {
      "cell_type": "code",
      "execution_count": 34,
      "metadata": {
        "id": "2yxjCPa69hV_",
        "outputId": "cc50fb34-94ee-44c8-aea3-b7826791bb8f",
        "colab": {
          "base_uri": "https://localhost:8080/"
        }
      },
      "outputs": [
        {
          "output_type": "stream",
          "name": "stdout",
          "text": [
            "input shape: torch.Size([1, 2])\n",
            "output shape: torch.Size([1, 3])\n",
            "output result: tensor([[0.9953, 0.3087, 0.9938]], grad_fn=<SigmoidBackward0>)\n"
          ]
        }
      ],
      "source": [
        "# Define a layer and test the output!\n",
        "num_inputs = 2\n",
        "num_outputs = 3 #this creates three perceptrons in the layer\n",
        "layer = OurDenseLayer(num_inputs, num_outputs)\n",
        "x_input = torch.tensor([[1, 2.]])\n",
        "y = layer(x_input)\n",
        "\n",
        "print(f\"input shape: {x_input.shape}\")\n",
        "print(f\"output shape: {y.shape}\")\n",
        "print(f\"output result: {y}\")"
      ]
    },
    {
      "cell_type": "markdown",
      "metadata": {
        "id": "Jt1FgM7qYZ3D"
      },
      "source": [
        "Conveniently, PyTorch has defined a number of ```nn.Modules``` (or Layers) that are commonly used in neural networks, for example a [```nn.Linear```](https://pytorch.org/docs/stable/generated/torch.nn.Linear.html) or [`nn.Sigmoid`](https://pytorch.org/docs/stable/generated/torch.nn.Sigmoid.html) module.\n",
        "\n",
        "Now, instead of using a single ```Module``` to define our simple neural network, we'll use the  [`nn.Sequential`](https://pytorch.org/docs/stable/generated/torch.nn.Sequential.html) module from PyTorch and a single [`nn.Linear` ](https://pytorch.org/docs/stable/generated/torch.nn.Linear.html) layer to define our network. With the `Sequential` API, you can readily create neural networks by stacking together layers like building blocks."
      ]
    },
    {
      "cell_type": "code",
      "execution_count": 42,
      "metadata": {
        "id": "7WXTpmoL6TDz"
      },
      "outputs": [],
      "source": [
        "### Defining a neural network using the PyTorch Sequential API ###\n",
        "\n",
        "# define the number of inputs and outputs\n",
        "n_input_nodes = 2\n",
        "n_output_nodes = 3\n",
        "\n",
        "# Define the model\n",
        "'''TODO: Use the Sequential API to define a neural network with a\n",
        "    single linear (dense!) layer, followed by non-linearity to compute z'''\n",
        "model = nn.Sequential(nn.Linear(n_input_nodes, n_output_nodes), nn.Sigmoid()) #in the sequential model, this chains the linear execution(matmul) and then the non_linearity"
      ]
    },
    {
      "cell_type": "markdown",
      "metadata": {
        "id": "HDGcwYfUyR-U"
      },
      "source": [
        "We've defined our model using the Sequential API. Now, we can test it out using an example input:"
      ]
    },
    {
      "cell_type": "code",
      "execution_count": 36,
      "metadata": {
        "id": "zKhp6XqCFFa0",
        "outputId": "21e0b51b-8865-4f67-a5ff-cad523f53a7d",
        "colab": {
          "base_uri": "https://localhost:8080/"
        }
      },
      "outputs": [
        {
          "output_type": "stream",
          "name": "stdout",
          "text": [
            "input shape: torch.Size([1, 2])\n",
            "output shape: torch.Size([1, 3])\n",
            "output result: tensor([[0.9953, 0.3087, 0.9938]], grad_fn=<SigmoidBackward0>)\n"
          ]
        }
      ],
      "source": [
        "# Test the model with example input\n",
        "x_input = torch.tensor([[1, 2.]])\n",
        "model_output = model(x_input)\n",
        "print(f\"input shape: {x_input.shape}\")\n",
        "print(f\"output shape: {y.shape}\")\n",
        "print(f\"output result: {y}\")"
      ]
    },
    {
      "cell_type": "markdown",
      "metadata": {
        "id": "596NvsOOtr9F"
      },
      "source": [
        "With PyTorch, we can create more flexible models by subclassing [`nn.Module`](https://pytorch.org/docs/stable/generated/torch.nn.Module.html). The `nn.Module` class allows us to group layers together flexibly to define new architectures.\n",
        "\n",
        "As we saw earlier with `OurDenseLayer`, we can subclass `nn.Module` to create a class for our model, and then define the forward pass through the network using the `forward` function. Subclassing affords the flexibility to define custom layers, custom training loops, custom activation functions, and custom models. Let's define the same neural network model as above (i.e., Linear layer with an activation function after it), now using subclassing and using PyTorch's built in linear layer from `nn.Linear`."
      ]
    },
    {
      "cell_type": "code",
      "execution_count": 39,
      "metadata": {
        "id": "K4aCflPVyViD"
      },
      "outputs": [],
      "source": [
        "### Defining a model using subclassing ###\n",
        "\n",
        "class LinearWithSigmoidActivation(nn.Module):\n",
        "    def __init__(self, num_inputs, num_outputs):\n",
        "        super(LinearWithSigmoidActivation, self).__init__()\n",
        "        '''TODO: define a model with a single Linear layer and sigmoid activation.'''\n",
        "        self.linear = nn.Linear(num_inputs, num_outputs) #ODO: linear layer'''\n",
        "        self.activation = nn.Sigmoid() #TODO: sigmoid activation'''\n",
        "\n",
        "    def forward(self, inputs):\n",
        "        linear_output = self.linear(inputs) #the inputs go to form the nn linear layer\n",
        "        output = self.activation(linear_output) #the outputs then go into the sigmoid function\n",
        "        return output\n"
      ]
    },
    {
      "cell_type": "markdown",
      "metadata": {
        "id": "goKCQ9dEGzRn"
      },
      "source": [
        "Let's test out our new model, using an example input, setting `n_input_nodes=2` and `n_output_nodes=3` as before."
      ]
    },
    {
      "cell_type": "code",
      "execution_count": 45,
      "metadata": {
        "id": "V-eNhSyRG6hl",
        "outputId": "857c0741-426a-466e-e267-5fece1d25627",
        "colab": {
          "base_uri": "https://localhost:8080/"
        }
      },
      "outputs": [
        {
          "output_type": "stream",
          "name": "stdout",
          "text": [
            "input shape: torch.Size([1, 2])\n",
            "output shape: torch.Size([1, 3])\n",
            "output result: tensor([[0.6939, 0.3293, 0.3167]], grad_fn=<SigmoidBackward0>)\n"
          ]
        }
      ],
      "source": [
        "n_input_nodes = 2\n",
        "n_output_nodes = 3\n",
        "model = LinearWithSigmoidActivation(n_input_nodes, n_output_nodes)\n",
        "x_input = torch.tensor([[1, 2.]])\n",
        "y = model(x_input)\n",
        "print(f\"input shape: {x_input.shape}\")\n",
        "print(f\"output shape: {y.shape}\")\n",
        "print(f\"output result: {y}\")"
      ]
    },
    {
      "cell_type": "markdown",
      "metadata": {
        "id": "HTIFMJLAzsyE"
      },
      "source": [
        "Importantly, `nn.Module` affords us a lot of flexibility to define custom models. For example, we can use boolean arguments in the `forward` function to specify different network behaviors, for example different behaviors during training and inference. Let's suppose under some instances we want our network to simply output the input, without any perturbation. We define a boolean argument `isidentity` to control this behavior:"
      ]
    },
    {
      "cell_type": "code",
      "execution_count": 54,
      "metadata": {
        "id": "P7jzGX5D1xT5"
      },
      "outputs": [],
      "source": [
        "### Custom behavior with subclassing nn.Module ###\n",
        "\n",
        "class LinearButSometimesIdentity(nn.Module):\n",
        "    def __init__(self, num_inputs, num_outputs):\n",
        "        super(LinearButSometimesIdentity, self).__init__()\n",
        "        self.linear = nn.Linear(num_inputs, num_outputs)\n",
        "\n",
        "    '''TODO: Implement the behavior where the network outputs the input, unchanged,\n",
        "        under control of the isidentity argument.'''\n",
        "    def forward(self, inputs, isidentity=False):\n",
        "      ''' TODO '''\n",
        "      if isidentity:\n",
        "        return inputs\n",
        "      else:\n",
        "        return self.linear(inputs) #where this function passes the inputs to the nn linear function definied in the initialisation\n",
        ""
      ]
    },
    {
      "cell_type": "markdown",
      "metadata": {
        "id": "Ku4rcCGx5T3y"
      },
      "source": [
        "Let's test this behavior:"
      ]
    },
    {
      "cell_type": "code",
      "execution_count": 56,
      "metadata": {
        "id": "NzC0mgbk5dp2",
        "outputId": "168a195f-b24e-4bbf-d683-b72b98337950",
        "colab": {
          "base_uri": "https://localhost:8080/"
        }
      },
      "outputs": [
        {
          "output_type": "stream",
          "name": "stdout",
          "text": [
            "input: tensor([[1., 2.]])\n",
            "Network linear output: tensor([[ 1.1567, -0.0749,  0.7390]], grad_fn=<AddmmBackward0>); network identity output: tensor([[1., 2.]])\n"
          ]
        }
      ],
      "source": [
        "# Test the IdentityModel\n",
        "model = LinearButSometimesIdentity(num_inputs=2, num_outputs=3)\n",
        "x_input = torch.tensor([[1, 2.]])\n",
        "\n",
        "'''TODO: pass the input into the model and call with and without the input identity option.'''\n",
        "out_with_linear = model(x_input, isidentity=False)# TODO\n",
        "out_with_identity = model(x_input, isidentity =  True)# TODO\n",
        "\n",
        "print(f\"input: {x_input}\")\n",
        "print(\"Network linear output: {}; network identity output: {}\".format(out_with_linear, out_with_identity))"
      ]
    },
    {
      "cell_type": "markdown",
      "metadata": {
        "id": "7V1dEqdk6VI5"
      },
      "source": [
        "Now that we have learned how to define layers and models in PyTorch using both the Sequential API and subclassing `nn.Module`, we're ready to turn our attention to how to actually implement network training with backpropagation."
      ]
    },
    {
      "cell_type": "markdown",
      "metadata": {
        "id": "dQwDhKn8kbO2"
      },
      "source": [
        "## 1.4 Automatic Differentiation in PyTorch\n",
        "\n",
        "In PyTorch, [`torch.autograd`](https://pytorch.org/docs/stable/autograd.html) is used for [automatic differentiation](https://en.wikipedia.org/wiki/Automatic_differentiation), which is critical for training deep learning models with [backpropagation](https://en.wikipedia.org/wiki/Backpropagation).\n",
        "\n",
        "We will use the PyTorch [`.backward()`](https://pytorch.org/docs/stable/generated/torch.Tensor.backward.html) method to trace operations for computing gradients. On a tensor, the [`requires_grad`](https://pytorch.org/docs/stable/generated/torch.Tensor.requires_grad_.html) attribute controls whether autograd should record operations on that tensor. When a forward pass is made through the network, PyTorch builds a computational graph dynamically; then, to compute the gradient, the `backward()` method is called to perform backpropagation.\n",
        "\n",
        "Let's compute the gradient of $ y = x^2 $:"
      ]
    },
    {
      "cell_type": "code",
      "execution_count": 58,
      "metadata": {
        "id": "tdkqk8pw5yJM",
        "outputId": "0a33d84d-3b35-410a-cd0f-3f8d4e8349c0",
        "colab": {
          "base_uri": "https://localhost:8080/"
        }
      },
      "outputs": [
        {
          "output_type": "stream",
          "name": "stdout",
          "text": [
            "dy_dx of y=x^2 at x=3.0 is:  tensor(6.)\n",
            "dy_dx of y=x^3 at x=6.0 is:  tensor(108.)\n"
          ]
        },
        {
          "output_type": "stream",
          "name": "stderr",
          "text": [
            "/usr/local/lib/python3.10/dist-packages/ipykernel/ipkernel.py:283: DeprecationWarning: `should_run_async` will not call `transform_cell` automatically in the future. Please pass the result to `transformed_cell` argument and any exception that happen during thetransform in `preprocessing_exc_tuple` in IPython 7.17 and above.\n",
            "  and should_run_async(code)\n"
          ]
        }
      ],
      "source": [
        "### Gradient computation ###\n",
        "\n",
        "# y = x^2\n",
        "# Example: x = 3.0\n",
        "x = torch.tensor(3.0, requires_grad=True)  #starts storing the gradients with each operation\n",
        "xprime = torch.tensor(6.0, requires_grad=True) #for my own understanding\n",
        "y = x ** 2\n",
        "yprime = xprime**3\n",
        "y.backward()  # Compute the gradient\n",
        "yprime.backward()\n",
        "dy_dx = x.grad\n",
        "dy_dx_prime = xprime.grad\n",
        "print(\"dy_dx of y=x^2 at x=3.0 is: \", dy_dx) #computes derivative at specific places\n",
        "assert dy_dx == 6.0\n",
        "print(\"dy_dx of y=x^3 at x=6.0 is: \", dy_dx_prime) #computes derivative at specific places\n",
        "assert dy_dx_prime == 3*36.0\n"
      ]
    },
    {
      "cell_type": "markdown",
      "metadata": {
        "id": "JhU5metS5xF3"
      },
      "source": [
        "In training neural networks, we use differentiation and stochastic gradient descent (SGD) to optimize a loss function. Now that we have a sense of how PyTorch's autograd can be used to compute and access derivatives, we will look at an example where we use automatic differentiation and SGD to find the minimum of $ L=(x-x_f)^2 $. Here $x_f$ is a variable for a desired value we are trying to optimize for; $L$ represents a loss that we are trying to minimize. While we can clearly solve this problem analytically ($ x_{min}=x_f $), considering how we can compute this using PyTorch's autograd sets us up nicely for future labs where we use gradient descent to optimize entire neural network losses."
      ]
    },
    {
      "cell_type": "code",
      "execution_count": 64,
      "metadata": {
        "attributes": {
          "classes": [
            "py"
          ],
          "id": ""
        },
        "id": "7g1yWiSXqEf-",
        "outputId": "1388135b-7a7c-4f0c-b09f-e71492a529a3",
        "colab": {
          "base_uri": "https://localhost:8080/",
          "height": 1000
        }
      },
      "outputs": [
        {
          "output_type": "stream",
          "name": "stdout",
          "text": [
            "Initializing x=-0.3777758479118347\n",
            "gradient: -8.75555169582367 == tensor([-8.7556])\n",
            "gradient: -8.580440640449524 == tensor([-8.5804])\n",
            "gradient: -8.40883183479309 == tensor([-8.4088])\n",
            "gradient: -8.240655213594437 == tensor([-8.2407])\n",
            "gradient: -8.07584211230278 == tensor([-8.0758])\n",
            "gradient: -7.9143252819776535 == tensor([-7.9143])\n",
            "gradient: -7.756038784980774 == tensor([-7.7560])\n",
            "gradient: -7.600917994976044 == tensor([-7.6009])\n",
            "gradient: -7.448899626731873 == tensor([-7.4489])\n",
            "gradient: -7.299921631813049 == tensor([-7.2999])\n",
            "gradient: -7.153923213481903 == tensor([-7.1539])\n",
            "gradient: -7.0108447670936584 == tensor([-7.0108])\n",
            "gradient: -6.8706278800964355 == tensor([-6.8706])\n",
            "gradient: -6.73321533203125 == tensor([-6.7332])\n",
            "gradient: -6.598551034927368 == tensor([-6.5986])\n",
            "gradient: -6.466580033302307 == tensor([-6.4666])\n",
            "gradient: -6.33724844455719 == tensor([-6.3372])\n",
            "gradient: -6.210503458976746 == tensor([-6.2105])\n",
            "gradient: -6.086293339729309 == tensor([-6.0863])\n",
            "gradient: -5.964567422866821 == tensor([-5.9646])\n",
            "gradient: -5.845276117324829 == tensor([-5.8453])\n",
            "gradient: -5.728370666503906 == tensor([-5.7284])\n",
            "gradient: -5.613803148269653 == tensor([-5.6138])\n",
            "gradient: -5.5015270709991455 == tensor([-5.5015])\n",
            "gradient: -5.391496658325195 == tensor([-5.3915])\n",
            "gradient: -5.283666610717773 == tensor([-5.2837])\n",
            "gradient: -5.177993297576904 == tensor([-5.1780])\n",
            "gradient: -5.074433326721191 == tensor([-5.0744])\n",
            "gradient: -4.972944736480713 == tensor([-4.9729])\n",
            "gradient: -4.873485803604126 == tensor([-4.8735])\n",
            "gradient: -4.776015996932983 == tensor([-4.7760])\n",
            "gradient: -4.680495738983154 == tensor([-4.6805])\n",
            "gradient: -4.586885929107666 == tensor([-4.5869])\n",
            "gradient: -4.495148181915283 == tensor([-4.4951])\n",
            "gradient: -4.405245304107666 == tensor([-4.4052])\n",
            "gradient: -4.317140340805054 == tensor([-4.3171])\n",
            "gradient: -4.230797529220581 == tensor([-4.2308])\n",
            "gradient: -4.146181583404541 == tensor([-4.1462])\n",
            "gradient: -4.063257932662964 == tensor([-4.0633])\n",
            "gradient: -3.981992721557617 == tensor([-3.9820])\n",
            "gradient: -3.902352809906006 == tensor([-3.9024])\n",
            "gradient: -3.824305534362793 == tensor([-3.8243])\n",
            "gradient: -3.747819423675537 == tensor([-3.7478])\n",
            "gradient: -3.672863006591797 == tensor([-3.6729])\n",
            "gradient: -3.5994057655334473 == tensor([-3.5994])\n",
            "gradient: -3.5274176597595215 == tensor([-3.5274])\n",
            "gradient: -3.456869125366211 == tensor([-3.4569])\n",
            "gradient: -3.3877315521240234 == tensor([-3.3877])\n",
            "gradient: -3.319976806640625 == tensor([-3.3200])\n",
            "gradient: -3.25357723236084 == tensor([-3.2536])\n",
            "gradient: -3.1885056495666504 == tensor([-3.1885])\n",
            "gradient: -3.1247353553771973 == tensor([-3.1247])\n",
            "gradient: -3.0622406005859375 == tensor([-3.0622])\n",
            "gradient: -3.000995635986328 == tensor([-3.0010])\n",
            "gradient: -2.9409756660461426 == tensor([-2.9410])\n",
            "gradient: -2.8821563720703125 == tensor([-2.8822])\n",
            "gradient: -2.8245134353637695 == tensor([-2.8245])\n",
            "gradient: -2.7680230140686035 == tensor([-2.7680])\n",
            "gradient: -2.712662696838379 == tensor([-2.7127])\n",
            "gradient: -2.658409595489502 == tensor([-2.6584])\n",
            "gradient: -2.605241298675537 == tensor([-2.6052])\n",
            "gradient: -2.5531363487243652 == tensor([-2.5531])\n",
            "gradient: -2.5020737648010254 == tensor([-2.5021])\n",
            "gradient: -2.4520320892333984 == tensor([-2.4520])\n",
            "gradient: -2.40299129486084 == tensor([-2.4030])\n",
            "gradient: -2.354931354522705 == tensor([-2.3549])\n",
            "gradient: -2.307832717895508 == tensor([-2.3078])\n",
            "gradient: -2.2616758346557617 == tensor([-2.2617])\n",
            "gradient: -2.216442108154297 == tensor([-2.2164])\n",
            "gradient: -2.1721134185791016 == tensor([-2.1721])\n",
            "gradient: -2.128671169281006 == tensor([-2.1287])\n",
            "gradient: -2.0860977172851562 == tensor([-2.0861])\n",
            "gradient: -2.0443758964538574 == tensor([-2.0444])\n",
            "gradient: -2.003488540649414 == tensor([-2.0035])\n",
            "gradient: -1.963418960571289 == tensor([-1.9634])\n",
            "gradient: -1.9241504669189453 == tensor([-1.9242])\n",
            "gradient: -1.885667324066162 == tensor([-1.8857])\n",
            "gradient: -1.8479537963867188 == tensor([-1.8480])\n",
            "gradient: -1.8109946250915527 == tensor([-1.8110])\n",
            "gradient: -1.7747745513916016 == tensor([-1.7748])\n",
            "gradient: -1.7392792701721191 == tensor([-1.7393])\n",
            "gradient: -1.704493522644043 == tensor([-1.7045])\n",
            "gradient: -1.6704034805297852 == tensor([-1.6704])\n",
            "gradient: -1.6369953155517578 == tensor([-1.6370])\n",
            "gradient: -1.604255199432373 == tensor([-1.6043])\n",
            "gradient: -1.5721702575683594 == tensor([-1.5722])\n",
            "gradient: -1.540726661682129 == tensor([-1.5407])\n",
            "gradient: -1.5099120140075684 == tensor([-1.5099])\n",
            "gradient: -1.4797139167785645 == tensor([-1.4797])\n",
            "gradient: -1.4501194953918457 == tensor([-1.4501])\n",
            "gradient: -1.4211173057556152 == tensor([-1.4211])\n",
            "gradient: -1.3926949501037598 == tensor([-1.3927])\n",
            "gradient: -1.3648409843444824 == tensor([-1.3648])\n",
            "gradient: -1.3375439643859863 == tensor([-1.3375])\n",
            "gradient: -1.3107929229736328 == tensor([-1.3108])\n",
            "gradient: -1.2845768928527832 == tensor([-1.2846])\n",
            "gradient: -1.258885383605957 == tensor([-1.2589])\n",
            "gradient: -1.2337079048156738 == tensor([-1.2337])\n",
            "gradient: -1.2090339660644531 == tensor([-1.2090])\n",
            "gradient: -1.1848530769348145 == tensor([-1.1849])\n",
            "gradient: -1.161156177520752 == tensor([-1.1612])\n",
            "gradient: -1.1379332542419434 == tensor([-1.1379])\n",
            "gradient: -1.1151747703552246 == tensor([-1.1152])\n",
            "gradient: -1.0928711891174316 == tensor([-1.0929])\n",
            "gradient: -1.0710139274597168 == tensor([-1.0710])\n",
            "gradient: -1.049593448638916 == tensor([-1.0496])\n",
            "gradient: -1.0286016464233398 == tensor([-1.0286])\n",
            "gradient: -1.0080294609069824 == tensor([-1.0080])\n",
            "gradient: -0.9878687858581543 == tensor([-0.9879])\n",
            "gradient: -0.968111515045166 == tensor([-0.9681])\n",
            "gradient: -0.9487490653991699 == tensor([-0.9487])\n",
            "gradient: -0.929774284362793 == tensor([-0.9298])\n",
            "gradient: -0.9111785888671875 == tensor([-0.9112])\n",
            "gradient: -0.8929548263549805 == tensor([-0.8930])\n",
            "gradient: -0.8750958442687988 == tensor([-0.8751])\n",
            "gradient: -0.8575940132141113 == tensor([-0.8576])\n",
            "gradient: -0.8404421806335449 == tensor([-0.8404])\n",
            "gradient: -0.8236331939697266 == tensor([-0.8236])\n",
            "gradient: -0.8071603775024414 == tensor([-0.8072])\n",
            "gradient: -0.7910170555114746 == tensor([-0.7910])\n",
            "gradient: -0.7751965522766113 == tensor([-0.7752])\n",
            "gradient: -0.7596926689147949 == tensor([-0.7597])\n",
            "gradient: -0.7444987297058105 == tensor([-0.7445])\n",
            "gradient: -0.7296085357666016 == tensor([-0.7296])\n",
            "gradient: -0.7150163650512695 == tensor([-0.7150])\n",
            "gradient: -0.7007160186767578 == tensor([-0.7007])\n",
            "gradient: -0.686701774597168 == tensor([-0.6867])\n",
            "gradient: -0.6729679107666016 == tensor([-0.6730])\n",
            "gradient: -0.6595087051391602 == tensor([-0.6595])\n",
            "gradient: -0.6463184356689453 == tensor([-0.6463])\n",
            "gradient: -0.6333918571472168 == tensor([-0.6334])\n",
            "gradient: -0.6207242012023926 == tensor([-0.6207])\n",
            "gradient: -0.6083097457885742 == tensor([-0.6083])\n",
            "gradient: -0.5961437225341797 == tensor([-0.5961])\n",
            "gradient: -0.5842208862304688 == tensor([-0.5842])\n",
            "gradient: -0.5725364685058594 == tensor([-0.5725])\n",
            "gradient: -0.5610857009887695 == tensor([-0.5611])\n",
            "gradient: -0.5498638153076172 == tensor([-0.5499])\n",
            "gradient: -0.5388665199279785 == tensor([-0.5389])\n",
            "gradient: -0.5280890464782715 == tensor([-0.5281])\n",
            "gradient: -0.5175271034240723 == tensor([-0.5175])\n",
            "gradient: -0.507176399230957 == tensor([-0.5072])\n",
            "gradient: -0.49703264236450195 == tensor([-0.4970])\n",
            "gradient: -0.4870920181274414 == tensor([-0.4871])\n",
            "gradient: -0.47735023498535156 == tensor([-0.4774])\n",
            "gradient: -0.4678030014038086 == tensor([-0.4678])\n",
            "gradient: -0.4584469795227051 == tensor([-0.4584])\n",
            "gradient: -0.4492778778076172 == tensor([-0.4493])\n",
            "gradient: -0.4402923583984375 == tensor([-0.4403])\n",
            "gradient: -0.4314866065979004 == tensor([-0.4315])\n",
            "gradient: -0.42285680770874023 == tensor([-0.4229])\n",
            "gradient: -0.4143996238708496 == tensor([-0.4144])\n",
            "gradient: -0.4061117172241211 == tensor([-0.4061])\n",
            "gradient: -0.39798927307128906 == tensor([-0.3980])\n",
            "gradient: -0.3900294303894043 == tensor([-0.3900])\n",
            "gradient: -0.3822288513183594 == tensor([-0.3822])\n",
            "gradient: -0.3745841979980469 == tensor([-0.3746])\n",
            "gradient: -0.3670926094055176 == tensor([-0.3671])\n",
            "gradient: -0.35975074768066406 == tensor([-0.3598])\n",
            "gradient: -0.3525557518005371 == tensor([-0.3526])\n",
            "gradient: -0.3455047607421875 == tensor([-0.3455])\n",
            "gradient: -0.3385944366455078 == tensor([-0.3386])\n",
            "gradient: -0.33182239532470703 == tensor([-0.3318])\n",
            "gradient: -0.32518577575683594 == tensor([-0.3252])\n",
            "gradient: -0.3186821937561035 == tensor([-0.3187])\n",
            "gradient: -0.31230831146240234 == tensor([-0.3123])\n",
            "gradient: -0.3060622215270996 == tensor([-0.3061])\n",
            "gradient: -0.2999410629272461 == tensor([-0.2999])\n",
            "gradient: -0.2939424514770508 == tensor([-0.2939])\n",
            "gradient: -0.28806352615356445 == tensor([-0.2881])\n",
            "gradient: -0.2823023796081543 == tensor([-0.2823])\n",
            "gradient: -0.2766561508178711 == tensor([-0.2767])\n",
            "gradient: -0.27112293243408203 == tensor([-0.2711])\n",
            "gradient: -0.2657003402709961 == tensor([-0.2657])\n",
            "gradient: -0.26038646697998047 == tensor([-0.2604])\n",
            "gradient: -0.25517892837524414 == tensor([-0.2552])\n",
            "gradient: -0.2500753402709961 == tensor([-0.2501])\n",
            "gradient: -0.24507379531860352 == tensor([-0.2451])\n",
            "gradient: -0.2401723861694336 == tensor([-0.2402])\n",
            "gradient: -0.2353687286376953 == tensor([-0.2354])\n",
            "gradient: -0.23066139221191406 == tensor([-0.2307])\n",
            "gradient: -0.22604799270629883 == tensor([-0.2260])\n",
            "gradient: -0.221527099609375 == tensor([-0.2215])\n",
            "gradient: -0.21709632873535156 == tensor([-0.2171])\n",
            "gradient: -0.2127542495727539 == tensor([-0.2128])\n",
            "gradient: -0.20849895477294922 == tensor([-0.2085])\n",
            "gradient: -0.2043290138244629 == tensor([-0.2043])\n",
            "gradient: -0.2002425193786621 == tensor([-0.2002])\n",
            "gradient: -0.19623756408691406 == tensor([-0.1962])\n",
            "gradient: -0.19231271743774414 == tensor([-0.1923])\n",
            "gradient: -0.18846654891967773 == tensor([-0.1885])\n",
            "gradient: -0.18469715118408203 == tensor([-0.1847])\n",
            "gradient: -0.18100309371948242 == tensor([-0.1810])\n",
            "gradient: -0.1773829460144043 == tensor([-0.1774])\n",
            "gradient: -0.17383527755737305 == tensor([-0.1738])\n",
            "gradient: -0.17035865783691406 == tensor([-0.1704])\n",
            "gradient: -0.16695165634155273 == tensor([-0.1670])\n",
            "gradient: -0.16361284255981445 == tensor([-0.1636])\n",
            "gradient: -0.1603407859802246 == tensor([-0.1603])\n",
            "gradient: -0.1571340560913086 == tensor([-0.1571])\n",
            "gradient: -0.1539912223815918 == tensor([-0.1540])\n",
            "gradient: -0.1509113311767578 == tensor([-0.1509])\n",
            "gradient: -0.14789295196533203 == tensor([-0.1479])\n",
            "gradient: -0.14493513107299805 == tensor([-0.1449])\n",
            "gradient: -0.14203643798828125 == tensor([-0.1420])\n",
            "gradient: -0.13919591903686523 == tensor([-0.1392])\n",
            "gradient: -0.1364121437072754 == tensor([-0.1364])\n",
            "gradient: -0.1336836814880371 == tensor([-0.1337])\n",
            "gradient: -0.1310100555419922 == tensor([-0.1310])\n",
            "gradient: -0.12838983535766602 == tensor([-0.1284])\n",
            "gradient: -0.1258220672607422 == tensor([-0.1258])\n",
            "gradient: -0.1233057975769043 == tensor([-0.1233])\n",
            "gradient: -0.12083959579467773 == tensor([-0.1208])\n",
            "gradient: -0.1184229850769043 == tensor([-0.1184])\n",
            "gradient: -0.11605453491210938 == tensor([-0.1161])\n",
            "gradient: -0.11373329162597656 == tensor([-0.1137])\n",
            "gradient: -0.11145877838134766 == tensor([-0.1115])\n",
            "gradient: -0.10922956466674805 == tensor([-0.1092])\n",
            "gradient: -0.10704517364501953 == tensor([-0.1070])\n",
            "gradient: -0.1049041748046875 == tensor([-0.1049])\n",
            "gradient: -0.10280609130859375 == tensor([-0.1028])\n",
            "gradient: -0.10074996948242188 == tensor([-0.1007])\n",
            "gradient: -0.09873485565185547 == tensor([-0.0987])\n",
            "gradient: -0.09676027297973633 == tensor([-0.0968])\n",
            "gradient: -0.09482526779174805 == tensor([-0.0948])\n",
            "gradient: -0.09292888641357422 == tensor([-0.0929])\n",
            "gradient: -0.09107017517089844 == tensor([-0.0911])\n",
            "gradient: -0.0892486572265625 == tensor([-0.0892])\n",
            "gradient: -0.0874638557434082 == tensor([-0.0875])\n",
            "gradient: -0.08571434020996094 == tensor([-0.0857])\n",
            "gradient: -0.0840001106262207 == tensor([-0.0840])\n",
            "gradient: -0.0823202133178711 == tensor([-0.0823])\n",
            "gradient: -0.0806736946105957 == tensor([-0.0807])\n",
            "gradient: -0.07906007766723633 == tensor([-0.0791])\n",
            "gradient: -0.07747888565063477 == tensor([-0.0775])\n",
            "gradient: -0.07592916488647461 == tensor([-0.0759])\n",
            "gradient: -0.07441043853759766 == tensor([-0.0744])\n",
            "gradient: -0.0729222297668457 == tensor([-0.0729])\n",
            "gradient: -0.07146358489990234 == tensor([-0.0715])\n",
            "gradient: -0.07003450393676758 == tensor([-0.0700])\n",
            "gradient: -0.068634033203125 == tensor([-0.0686])\n",
            "gradient: -0.0672612190246582 == tensor([-0.0673])\n",
            "gradient: -0.06591606140136719 == tensor([-0.0659])\n",
            "gradient: -0.06459760665893555 == tensor([-0.0646])\n",
            "gradient: -0.06330585479736328 == tensor([-0.0633])\n",
            "gradient: -0.062039852142333984 == tensor([-0.0620])\n",
            "gradient: -0.06079912185668945 == tensor([-0.0608])\n",
            "gradient: -0.059583187103271484 == tensor([-0.0596])\n",
            "gradient: -0.058391571044921875 == tensor([-0.0584])\n",
            "gradient: -0.05722379684448242 == tensor([-0.0572])\n",
            "gradient: -0.05607938766479492 == tensor([-0.0561])\n",
            "gradient: -0.05495786666870117 == tensor([-0.0550])\n",
            "gradient: -0.05385875701904297 == tensor([-0.0539])\n",
            "gradient: -0.05278158187866211 == tensor([-0.0528])\n",
            "gradient: -0.05172586441040039 == tensor([-0.0517])\n",
            "gradient: -0.05069112777709961 == tensor([-0.0507])\n",
            "gradient: -0.049677371978759766 == tensor([-0.0497])\n",
            "gradient: -0.04868364334106445 == tensor([-0.0487])\n",
            "gradient: -0.04770994186401367 == tensor([-0.0477])\n",
            "gradient: -0.04675579071044922 == tensor([-0.0468])\n",
            "gradient: -0.04582071304321289 == tensor([-0.0458])\n",
            "gradient: -0.044904232025146484 == tensor([-0.0449])\n",
            "gradient: -0.04400634765625 == tensor([-0.0440])\n",
            "gradient: -0.04312610626220703 == tensor([-0.0431])\n",
            "gradient: -0.04226350784301758 == tensor([-0.0423])\n",
            "gradient: -0.04141807556152344 == tensor([-0.0414])\n",
            "gradient: -0.04058980941772461 == tensor([-0.0406])\n",
            "gradient: -0.03977823257446289 == tensor([-0.0398])\n",
            "gradient: -0.03898286819458008 == tensor([-0.0390])\n",
            "gradient: -0.03820323944091797 == tensor([-0.0382])\n",
            "gradient: -0.03743934631347656 == tensor([-0.0374])\n",
            "gradient: -0.036690711975097656 == tensor([-0.0367])\n",
            "gradient: -0.03595685958862305 == tensor([-0.0360])\n",
            "gradient: -0.035237789154052734 == tensor([-0.0352])\n",
            "gradient: -0.034533023834228516 == tensor([-0.0345])\n",
            "gradient: -0.03384256362915039 == tensor([-0.0338])\n",
            "gradient: -0.033165931701660156 == tensor([-0.0332])\n",
            "gradient: -0.03250265121459961 == tensor([-0.0325])\n",
            "gradient: -0.03185272216796875 == tensor([-0.0319])\n",
            "gradient: -0.031215667724609375 == tensor([-0.0312])\n",
            "gradient: -0.030591487884521484 == tensor([-0.0306])\n",
            "gradient: -0.029979705810546875 == tensor([-0.0300])\n",
            "gradient: -0.029380321502685547 == tensor([-0.0294])\n",
            "gradient: -0.028792858123779297 == tensor([-0.0288])\n",
            "gradient: -0.028216838836669922 == tensor([-0.0282])\n",
            "gradient: -0.027652740478515625 == tensor([-0.0277])\n",
            "gradient: -0.027099609375 == tensor([-0.0271])\n",
            "gradient: -0.026557445526123047 == tensor([-0.0266])\n",
            "gradient: -0.026026248931884766 == tensor([-0.0260])\n",
            "gradient: -0.025505542755126953 == tensor([-0.0255])\n",
            "gradient: -0.02499532699584961 == tensor([-0.0250])\n",
            "gradient: -0.024495601654052734 == tensor([-0.0245])\n",
            "gradient: -0.024005889892578125 == tensor([-0.0240])\n",
            "gradient: -0.023525714874267578 == tensor([-0.0235])\n",
            "gradient: -0.023055076599121094 == tensor([-0.0231])\n",
            "gradient: -0.022593975067138672 == tensor([-0.0226])\n",
            "gradient: -0.02214193344116211 == tensor([-0.0221])\n",
            "gradient: -0.021698951721191406 == tensor([-0.0217])\n",
            "gradient: -0.021265029907226562 == tensor([-0.0213])\n",
            "gradient: -0.020839691162109375 == tensor([-0.0208])\n",
            "gradient: -0.020422935485839844 == tensor([-0.0204])\n",
            "gradient: -0.020014286041259766 == tensor([-0.0200])\n",
            "gradient: -0.019614219665527344 == tensor([-0.0196])\n",
            "gradient: -0.019221782684326172 == tensor([-0.0192])\n",
            "gradient: -0.018837451934814453 == tensor([-0.0188])\n",
            "gradient: -0.018460750579833984 == tensor([-0.0185])\n",
            "gradient: -0.018091678619384766 == tensor([-0.0181])\n",
            "gradient: -0.017729759216308594 == tensor([-0.0177])\n",
            "gradient: -0.01737499237060547 == tensor([-0.0174])\n",
            "gradient: -0.01702737808227539 == tensor([-0.0170])\n",
            "gradient: -0.01668691635131836 == tensor([-0.0167])\n",
            "gradient: -0.016353130340576172 == tensor([-0.0164])\n",
            "gradient: -0.016026020050048828 == tensor([-0.0160])\n",
            "gradient: -0.015705585479736328 == tensor([-0.0157])\n",
            "gradient: -0.015391349792480469 == tensor([-0.0154])\n",
            "gradient: -0.01508331298828125 == tensor([-0.0151])\n",
            "gradient: -0.014781475067138672 == tensor([-0.0148])\n",
            "gradient: -0.014485836029052734 == tensor([-0.0145])\n",
            "gradient: -0.014195919036865234 == tensor([-0.0142])\n",
            "gradient: -0.013912200927734375 == tensor([-0.0139])\n",
            "gradient: -0.01363372802734375 == tensor([-0.0136])\n",
            "gradient: -0.013360977172851562 == tensor([-0.0134])\n",
            "gradient: -0.013093948364257812 == tensor([-0.0131])\n",
            "gradient: -0.012832164764404297 == tensor([-0.0128])\n",
            "gradient: -0.012575626373291016 == tensor([-0.0126])\n",
            "gradient: -0.012324333190917969 == tensor([-0.0123])\n",
            "gradient: -0.012077808380126953 == tensor([-0.0121])\n",
            "gradient: -0.011836051940917969 == tensor([-0.0118])\n",
            "gradient: -0.011599540710449219 == tensor([-0.0116])\n",
            "gradient: -0.011367321014404297 == tensor([-0.0114])\n",
            "gradient: -0.011139869689941406 == tensor([-0.0111])\n",
            "gradient: -0.010917186737060547 == tensor([-0.0109])\n",
            "gradient: -0.010698795318603516 == tensor([-0.0107])\n",
            "gradient: -0.010484695434570312 == tensor([-0.0105])\n",
            "gradient: -0.010274887084960938 == tensor([-0.0103])\n",
            "gradient: -0.01006937026977539 == tensor([-0.0101])\n",
            "gradient: -0.009868144989013672 == tensor([-0.0099])\n",
            "gradient: -0.009670734405517578 == tensor([-0.0097])\n",
            "gradient: -0.00947713851928711 == tensor([-0.0095])\n",
            "gradient: -0.009287834167480469 == tensor([-0.0093])\n",
            "gradient: -0.00910186767578125 == tensor([-0.0091])\n",
            "gradient: -0.008919715881347656 == tensor([-0.0089])\n",
            "gradient: -0.008741378784179688 == tensor([-0.0087])\n",
            "gradient: -0.00856637954711914 == tensor([-0.0086])\n",
            "gradient: -0.008395195007324219 == tensor([-0.0084])\n",
            "gradient: -0.008227348327636719 == tensor([-0.0082])\n",
            "gradient: -0.00806283950805664 == tensor([-0.0081])\n",
            "gradient: -0.007901668548583984 == tensor([-0.0079])\n",
            "gradient: -0.00774383544921875 == tensor([-0.0077])\n",
            "gradient: -0.007588863372802734 == tensor([-0.0076])\n",
            "gradient: -0.007437229156494141 == tensor([-0.0074])\n",
            "gradient: -0.007288455963134766 == tensor([-0.0073])\n",
            "gradient: -0.007142543792724609 == tensor([-0.0071])\n",
            "gradient: -0.006999492645263672 == tensor([-0.0070])\n",
            "gradient: -0.006859302520751953 == tensor([-0.0069])\n",
            "gradient: -0.006721973419189453 == tensor([-0.0067])\n",
            "gradient: -0.006587505340576172 == tensor([-0.0066])\n",
            "gradient: -0.006455898284912109 == tensor([-0.0065])\n",
            "gradient: -0.0063266754150390625 == tensor([-0.0063])\n",
            "gradient: -0.006200313568115234 == tensor([-0.0062])\n",
            "gradient: -0.006076335906982422 == tensor([-0.0061])\n",
            "gradient: -0.005954742431640625 == tensor([-0.0060])\n",
            "gradient: -0.005835533142089844 == tensor([-0.0058])\n",
            "gradient: -0.005718708038330078 == tensor([-0.0057])\n",
            "gradient: -0.005604267120361328 == tensor([-0.0056])\n",
            "gradient: -0.005492210388183594 == tensor([-0.0055])\n",
            "gradient: -0.005382537841796875 == tensor([-0.0054])\n",
            "gradient: -0.005274772644042969 == tensor([-0.0053])\n",
            "gradient: -0.005169391632080078 == tensor([-0.0052])\n",
            "gradient: -0.00506591796875 == tensor([-0.0051])\n",
            "gradient: -0.0049648284912109375 == tensor([-0.0050])\n",
            "gradient: -0.0048656463623046875 == tensor([-0.0049])\n",
            "gradient: -0.00476837158203125 == tensor([-0.0048])\n",
            "gradient: -0.004673004150390625 == tensor([-0.0047])\n",
            "gradient: -0.0045795440673828125 == tensor([-0.0046])\n",
            "gradient: -0.0044879913330078125 == tensor([-0.0045])\n",
            "gradient: -0.004398345947265625 == tensor([-0.0044])\n",
            "gradient: -0.00431060791015625 == tensor([-0.0043])\n",
            "gradient: -0.004224300384521484 == tensor([-0.0042])\n",
            "gradient: -0.004139900207519531 == tensor([-0.0041])\n",
            "gradient: -0.0040569305419921875 == tensor([-0.0041])\n",
            "gradient: -0.003975868225097656 == tensor([-0.0040])\n",
            "gradient: -0.0038962364196777344 == tensor([-0.0039])\n",
            "gradient: -0.003818511962890625 == tensor([-0.0038])\n",
            "gradient: -0.003742218017578125 == tensor([-0.0037])\n",
            "gradient: -0.0036673545837402344 == tensor([-0.0037])\n",
            "gradient: -0.003593921661376953 == tensor([-0.0036])\n",
            "gradient: -0.0035219192504882812 == tensor([-0.0035])\n",
            "gradient: -0.0034513473510742188 == tensor([-0.0035])\n",
            "gradient: -0.0033822059631347656 == tensor([-0.0034])\n",
            "gradient: -0.003314495086669922 == tensor([-0.0033])\n",
            "gradient: -0.0032482147216796875 == tensor([-0.0032])\n",
            "gradient: -0.0031833648681640625 == tensor([-0.0032])\n",
            "gradient: -0.0031194686889648438 == tensor([-0.0031])\n",
            "gradient: -0.0030570030212402344 == tensor([-0.0031])\n",
            "gradient: -0.0029959678649902344 == tensor([-0.0030])\n",
            "gradient: -0.0029358863830566406 == tensor([-0.0029])\n",
            "gradient: -0.0028772354125976562 == tensor([-0.0029])\n",
            "gradient: -0.002819538116455078 == tensor([-0.0028])\n",
            "gradient: -0.0027632713317871094 == tensor([-0.0028])\n",
            "gradient: -0.002707958221435547 == tensor([-0.0027])\n",
            "gradient: -0.0026535987854003906 == tensor([-0.0027])\n",
            "gradient: -0.0026006698608398438 == tensor([-0.0026])\n",
            "gradient: -0.002548694610595703 == tensor([-0.0025])\n",
            "gradient: -0.0024976730346679688 == tensor([-0.0025])\n",
            "gradient: -0.0024476051330566406 == tensor([-0.0024])\n",
            "gradient: -0.0023984909057617188 == tensor([-0.0024])\n",
            "gradient: -0.002350330352783203 == tensor([-0.0024])\n",
            "gradient: -0.0023031234741210938 == tensor([-0.0023])\n",
            "gradient: -0.0022568702697753906 == tensor([-0.0023])\n",
            "gradient: -0.0022115707397460938 == tensor([-0.0022])\n",
            "gradient: -0.002167224884033203 == tensor([-0.0022])\n",
            "gradient: -0.0021238327026367188 == tensor([-0.0021])\n",
            "gradient: -0.0020813941955566406 == tensor([-0.0021])\n",
            "gradient: -0.0020399093627929688 == tensor([-0.0020])\n",
            "gradient: -0.0019989013671875 == tensor([-0.0020])\n",
            "gradient: -0.0019588470458984375 == tensor([-0.0020])\n",
            "gradient: -0.0019197463989257812 == tensor([-0.0019])\n",
            "gradient: -0.0018811225891113281 == tensor([-0.0019])\n",
            "gradient: -0.0018434524536132812 == tensor([-0.0018])\n",
            "gradient: -0.0018067359924316406 == tensor([-0.0018])\n",
            "gradient: -0.0017704963684082031 == tensor([-0.0018])\n",
            "gradient: -0.0017352104187011719 == tensor([-0.0017])\n",
            "gradient: -0.0017004013061523438 == tensor([-0.0017])\n",
            "gradient: -0.0016665458679199219 == tensor([-0.0017])\n",
            "gradient: -0.0016331672668457031 == tensor([-0.0016])\n",
            "gradient: -0.0016002655029296875 == tensor([-0.0016])\n",
            "gradient: -0.0015683174133300781 == tensor([-0.0016])\n",
            "gradient: -0.0015368461608886719 == tensor([-0.0015])\n",
            "gradient: -0.0015063285827636719 == tensor([-0.0015])\n",
            "gradient: -0.001476287841796875 == tensor([-0.0015])\n",
            "gradient: -0.0014467239379882812 == tensor([-0.0014])\n",
            "gradient: -0.0014176368713378906 == tensor([-0.0014])\n",
            "gradient: -0.0013895034790039062 == tensor([-0.0014])\n",
            "gradient: -0.001361846923828125 == tensor([-0.0014])\n",
            "gradient: -0.0013346672058105469 == tensor([-0.0013])\n",
            "gradient: -0.0013079643249511719 == tensor([-0.0013])\n",
            "gradient: -0.00128173828125 == tensor([-0.0013])\n",
            "gradient: -0.0012559890747070312 == tensor([-0.0013])\n",
            "gradient: -0.0012307167053222656 == tensor([-0.0012])\n",
            "gradient: -0.0012059211730957031 == tensor([-0.0012])\n",
            "gradient: -0.0011816024780273438 == tensor([-0.0012])\n",
            "gradient: -0.0011577606201171875 == tensor([-0.0012])\n",
            "gradient: -0.0011343955993652344 == tensor([-0.0011])\n",
            "gradient: -0.0011115074157714844 == tensor([-0.0011])\n",
            "gradient: -0.0010890960693359375 == tensor([-0.0011])\n",
            "gradient: -0.0010671615600585938 == tensor([-0.0011])\n",
            "gradient: -0.0010457038879394531 == tensor([-0.0010])\n",
            "gradient: -0.0010247230529785156 == tensor([-0.0010])\n",
            "gradient: -0.0010042190551757812 == tensor([-0.0010])\n",
            "gradient: -0.00098419189453125 == tensor([-0.0010])\n",
            "gradient: -0.0009646415710449219 == tensor([-0.0010])\n",
            "gradient: -0.0009455680847167969 == tensor([-0.0009])\n",
            "gradient: -0.0009264945983886719 == tensor([-0.0009])\n",
            "gradient: -0.00090789794921875 == tensor([-0.0009])\n",
            "gradient: -0.0008897781372070312 == tensor([-0.0009])\n",
            "gradient: -0.0008721351623535156 == tensor([-0.0009])\n",
            "gradient: -0.0008544921875 == tensor([-0.0009])\n",
            "gradient: -0.0008373260498046875 == tensor([-0.0008])\n",
            "gradient: -0.0008206367492675781 == tensor([-0.0008])\n",
            "gradient: -0.0008044242858886719 == tensor([-0.0008])\n",
            "gradient: -0.0007882118225097656 == tensor([-0.0008])\n",
            "gradient: -0.0007724761962890625 == tensor([-0.0008])\n",
            "gradient: -0.0007572174072265625 == tensor([-0.0008])\n",
            "gradient: -0.0007419586181640625 == tensor([-0.0007])\n",
            "gradient: -0.0007271766662597656 == tensor([-0.0007])\n",
            "gradient: -0.0007123947143554688 == tensor([-0.0007])\n",
            "gradient: -0.000698089599609375 == tensor([-0.0007])\n",
            "gradient: -0.0006842613220214844 == tensor([-0.0007])\n",
            "gradient: -0.0006704330444335938 == tensor([-0.0007])\n",
            "gradient: -0.0006570816040039062 == tensor([-0.0007])\n",
            "gradient: -0.0006437301635742188 == tensor([-0.0006])\n",
            "gradient: -0.0006308555603027344 == tensor([-0.0006])\n",
            "gradient: -0.0006184577941894531 == tensor([-0.0006])\n",
            "gradient: -0.0006060600280761719 == tensor([-0.0006])\n",
            "gradient: -0.0005941390991210938 == tensor([-0.0006])\n",
            "gradient: -0.0005822181701660156 == tensor([-0.0006])\n",
            "gradient: -0.0005707740783691406 == tensor([-0.0006])\n",
            "gradient: -0.0005593299865722656 == tensor([-0.0006])\n",
            "gradient: -0.0005483627319335938 == tensor([-0.0005])\n",
            "gradient: -0.0005373954772949219 == tensor([-0.0005])\n",
            "gradient: -0.00052642822265625 == tensor([-0.0005])\n",
            "gradient: -0.0005159378051757812 == tensor([-0.0005])\n",
            "gradient: -0.0005054473876953125 == tensor([-0.0005])\n",
            "gradient: -0.0004954338073730469 == tensor([-0.0005])\n",
            "gradient: -0.00048542022705078125 == tensor([-0.0005])\n",
            "gradient: -0.00047588348388671875 == tensor([-0.0005])\n",
            "gradient: -0.00046634674072265625 == tensor([-0.0005])\n",
            "gradient: -0.00045680999755859375 == tensor([-0.0005])\n",
            "gradient: -0.0004477500915527344 == tensor([-0.0004])\n",
            "gradient: -0.000438690185546875 == tensor([-0.0004])\n",
            "gradient: -0.00043010711669921875 == tensor([-0.0004])\n",
            "gradient: -0.0004215240478515625 == tensor([-0.0004])\n",
            "gradient: -0.00041294097900390625 == tensor([-0.0004])\n",
            "gradient: -0.0004048347473144531 == tensor([-0.0004])\n",
            "gradient: -0.000396728515625 == tensor([-0.0004])\n",
            "gradient: -0.0003886222839355469 == tensor([-0.0004])\n",
            "gradient: -0.0003809928894042969 == tensor([-0.0004])\n",
            "gradient: -0.0003733634948730469 == tensor([-0.0004])\n",
            "gradient: -0.0003657341003417969 == tensor([-0.0004])\n"
          ]
        },
        {
          "output_type": "display_data",
          "data": {
            "text/plain": [
              "<Figure size 640x480 with 1 Axes>"
            ],
            "image/png": "[encoded data removed]"
          },
          "metadata": {}
        }
      ],
      "source": [
        "### Function minimization with autograd and gradient descent ###\n",
        "\n",
        "# Initialize a random value for our intial x\n",
        "x = torch.randn(1)\n",
        "print(f\"Initializing x={x.item()}\") #x.item() returns as a number if the tensor is scalar\n",
        "learning_rate = 1e-2  # Learning rate #the alpha\n",
        "history = []\n",
        "x_f = 4  # Target value\n",
        "\n",
        "#l = (x-xf)^2\n",
        "#xst Lmin implies that dl/dx == 0 => 2(x-xf) = 0 => x = xf? #this is analytically\n",
        "#the other way is xnew = xold - alpha * dl/dx where xnew = xold if dl/dcx == 0\n",
        "# We will run gradient descent for a number of iterations. At each iteration, we compute the loss,\n",
        "#   compute the derivative of the loss with respect to x, and perform the update.\n",
        "\n",
        "for i in range(500):\n",
        "    x = torch.tensor([x], requires_grad=True) #scalar each time?\n",
        "\n",
        "    # TODO: Compute the loss as the square of the difference between x and x_f\n",
        "    loss = (x - x_f)**2 # TODO\n",
        "    # # Backpropagate through the loss to compute gradients\n",
        "    loss.backward() #this goes through how the loss is defined and retrieves the gradient at the particular point and gives it to x\n",
        "    # Update x with gradient descent\n",
        "    #print(f'gradient: {2*(x.item() - x_f)} == {x.grad}')\n",
        "    x = x.item() - learning_rate * x.grad\n",
        "\n",
        "    history.append(x.item())\n",
        "\n",
        "# Plot the evolution of x as we optimize toward x_f!\n",
        "plt.plot(history)\n",
        "plt.plot([0, 500], [x_f, x_f])\n",
        "plt.legend(('Predicted', 'True'))\n",
        "plt.xlabel('Iteration')\n",
        "plt.ylabel('x value')\n",
        "plt.show()\n"
      ]
    },
    {
      "cell_type": "markdown",
      "metadata": {
        "id": "pC7czCwk3ceH"
      },
      "source": [
        "Now, we have covered the fundamental concepts of PyTorch -- tensors, operations, neural networks, and automatic differentiation. Fire!!\n"
      ]
    }
  ],
  "metadata": {
    "accelerator": "GPU",
    "colab": {
      "collapsed_sections": [
        "WBk0ZDWY-ff8"
      ],
      "name": "PT_Part1_Intro.ipynb",
      "provenance": [],
      "gpuType": "T4",
      "include_colab_link": true
    },
    "kernelspec": {
      "display_name": "Python 3",
      "name": "python3"
    },
    "language_info": {
      "codemirror_mode": {
        "name": "ipython",
        "version": 3
      },
      "file_extension": ".py",
      "mimetype": "text/x-python",
      "name": "python",
      "nbconvert_exporter": "python",
      "pygments_lexer": "ipython3",
      "version": "3.10.6"
    },
    "vscode": {
      "interpreter": {
        "hash": "31f2aee4e71d21fbe5cf8b01ff0e069b9275f58929596ceb00d14d90e3e16cd6"
      }
    }
  },
  "nbformat": 4,
  "nbformat_minor": 0
}